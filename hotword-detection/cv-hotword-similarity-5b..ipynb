{
 "cells": [
  {
   "cell_type": "code",
   "execution_count": 1,
   "id": "21dcc4cf-720a-4518-aff9-45300568ea12",
   "metadata": {},
   "outputs": [],
   "source": [
    "# Identify ASR transcriptions that are similar to hot-words"
   ]
  },
  {
   "cell_type": "code",
   "execution_count": 2,
   "id": "90cb2592-87f9-4e53-9b09-ad449825ec71",
   "metadata": {},
   "outputs": [],
   "source": [
    "# Imports\n",
    "\n",
    "from sentence_transformers import SentenceTransformer # InstructorEmbedding.INSTRUCTOR does not work, therefore fall back to the generic sentence_transformers.SentenceTransformer\n",
    "import torch\n",
    "import tqdm\n",
    "from sklearn.metrics.pairwise import cosine_similarity"
   ]
  },
  {
   "cell_type": "code",
   "execution_count": 3,
   "id": "fc203c5a-1e04-42e7-b850-e4038e2b561c",
   "metadata": {},
   "outputs": [],
   "source": [
    "# Hyper-parameters\n",
    "\n",
    "device = \"cuda\""
   ]
  },
  {
   "cell_type": "code",
   "execution_count": 4,
   "id": "9ff5084c-82a7-4cde-953c-e50a086d0745",
   "metadata": {},
   "outputs": [],
   "source": [
    "# Define method to read reference CSV file\n",
    "\n",
    "def read_ref_csv(path):\n",
    "    # Read a CSV file containing reference word sequences\n",
    "    ref = dict()\n",
    "    with open(path, \"r\", encoding=\"utf-8\") as file:\n",
    "        for line in file:\n",
    "            line = line.rstrip().split(\",\")\n",
    "            if \".mp3\" in line[0]:\n",
    "                utt_name = line[0]\n",
    "                assert(utt_name not in ref)\n",
    "                ref[utt_name] = line[1].upper() # wav2vec2-large-960h only supports upper case\n",
    "    return ref"
   ]
  },
  {
   "cell_type": "code",
   "execution_count": 5,
   "id": "a384cd5e-2a63-472f-a0c8-fdb982d509a5",
   "metadata": {},
   "outputs": [
    {
     "data": {
      "text/plain": [
       "SentenceTransformer(\n",
       "  (0): Transformer({'max_seq_length': 512, 'do_lower_case': False}) with Transformer model: T5EncoderModel \n",
       "  (1): Pooling({'word_embedding_dimension': 768, 'pooling_mode_cls_token': False, 'pooling_mode_mean_tokens': True, 'pooling_mode_max_tokens': False, 'pooling_mode_mean_sqrt_len_tokens': False, 'pooling_mode_weightedmean_tokens': False, 'pooling_mode_lasttoken': False, 'include_prompt': False})\n",
       "  (2): Dense({'in_features': 1024, 'out_features': 768, 'bias': False, 'activation_function': 'torch.nn.modules.linear.Identity'})\n",
       "  (3): Normalize()\n",
       ")"
      ]
     },
     "execution_count": 5,
     "metadata": {},
     "output_type": "execute_result"
    }
   ],
   "source": [
    "# Load text embedding model\n",
    "model = SentenceTransformer('hkunlp/instructor-large')\n",
    "model.to(device)"
   ]
  },
  {
   "cell_type": "code",
   "execution_count": 6,
   "id": "d9c2054d-1cd2-4f03-88e6-73be96267567",
   "metadata": {},
   "outputs": [],
   "source": [
    "# Load transcription\n",
    "transcriptions_filename = \"/home/jeremy/htx_test1234/asr-train/cv-valid-dev.csv\"\n",
    "transcriptions = read_ref_csv(transcriptions_filename)"
   ]
  },
  {
   "cell_type": "code",
   "execution_count": 7,
   "id": "5b1f8797-5db1-429d-b776-488a0905e27f",
   "metadata": {},
   "outputs": [],
   "source": [
    "# Compute embeddings of hot words\n",
    "prompt = \"Represent the meaning of the following sentence:\"\n",
    "hot_words = [\"be careful\", \"destroy\", \"stranger\"]\n",
    "hot_words_embeddings = dict()\n",
    "for w in hot_words:\n",
    "    hot_words_embeddings[w] = model.encode([[prompt, w.upper()]]) # Convert to upper case to match transcriptions"
   ]
  },
  {
   "cell_type": "code",
   "execution_count": 8,
   "id": "a863e842-7ed5-4b5f-ad22-9aa3465659b7",
   "metadata": {},
   "outputs": [
    {
     "name": "stderr",
     "output_type": "stream",
     "text": [
      "100%|███████████████████████████████████████████████████████████████████████████████████| 4076/4076 [00:49<00:00, 81.66it/s]\n"
     ]
    }
   ],
   "source": [
    "# Compute embeddings of the transcriptions\n",
    "transcriptions_embeddings = dict()\n",
    "for utt_name in tqdm.tqdm(list(sorted(transcriptions.keys()))):\n",
    "    transcriptions_embeddings[utt_name] = model.encode([[prompt, transcriptions[utt_name]]])"
   ]
  },
  {
   "cell_type": "code",
   "execution_count": 9,
   "id": "0709aff8-06b6-4dce-989e-8a3b0c3addde",
   "metadata": {},
   "outputs": [
    {
     "name": "stderr",
     "output_type": "stream",
     "text": [
      "100%|█████████████████████████████████████████████████████████████████████████████████| 4076/4076 [00:02<00:00, 1552.98it/s]"
     ]
    },
    {
     "name": "stdout",
     "output_type": "stream",
     "text": [
      "22 out of 4076 utterances found to be similar to hot-words\n"
     ]
    },
    {
     "name": "stderr",
     "output_type": "stream",
     "text": [
      "\n"
     ]
    }
   ],
   "source": [
    "# Find utterances whose embeddings are within a cosine similarity threshold of the hot words\n",
    "threshold = 0.95 # If given more time, this threshold should be tuned on the training set.\n",
    "num_detected = 0\n",
    "utterances_with_hotwords = set()\n",
    "with torch.no_grad():\n",
    "    for utt_name in tqdm.tqdm(list(sorted(transcriptions_embeddings.keys()))):\n",
    "        for w in hot_words_embeddings.keys():\n",
    "            similarity = cosine_similarity(hot_words_embeddings[w], transcriptions_embeddings[utt_name])\n",
    "            if similarity >= threshold:\n",
    "                utterances_with_hotwords.add(utt_name)\n",
    "                num_detected += 1\n",
    "                continue\n",
    "print(\"{} out of {} utterances found to be similar to hot-words\".format(num_detected, len(transcriptions)))"
   ]
  },
  {
   "cell_type": "code",
   "execution_count": 10,
   "id": "e0dc6d71-44fa-4805-86ac-08270bb65fff",
   "metadata": {},
   "outputs": [],
   "source": [
    "# Write detected utterances to file\n",
    "output_filename = \"/home/jeremy/htx_test1234/hotword-detection/cv-valid-dev.csv\"\n",
    "with open(output_filename, \"w\", encoding=\"utf-8\") as file:\n",
    "    print(\"utternace_name,generated_text,similarity\", file=file)\n",
    "    for utt_name in sorted(transcriptions.keys()):\n",
    "        print(\"{},{},{}\".format(\n",
    "            utt_name,\n",
    "            transcriptions[utt_name],\n",
    "            \"true\" if utt_name in utterances_with_hotwords else \"false\"\n",
    "        ), file=file)"
   ]
  }
 ],
 "metadata": {
  "kernelspec": {
   "display_name": "Python 3 (ipykernel)",
   "language": "python",
   "name": "python3"
  },
  "language_info": {
   "codemirror_mode": {
    "name": "ipython",
    "version": 3
   },
   "file_extension": ".py",
   "mimetype": "text/x-python",
   "name": "python",
   "nbconvert_exporter": "python",
   "pygments_lexer": "ipython3",
   "version": "3.10.17"
  }
 },
 "nbformat": 4,
 "nbformat_minor": 5
}
